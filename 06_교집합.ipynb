{
 "cells": [
  {
   "cell_type": "code",
   "execution_count": 1,
   "id": "bf00bf02",
   "metadata": {},
   "outputs": [],
   "source": [
    "import pandas as pd\n",
    "import numpy as np\n",
    "import os\n",
    "import math\n",
    "import pickle\n",
    "from mpl_toolkits.mplot3d import axes3d\n",
    "\n",
    "import matplotlib.pyplot as plt"
   ]
  },
  {
   "cell_type": "code",
   "execution_count": 2,
   "id": "ca1b6fe3",
   "metadata": {},
   "outputs": [
    {
     "name": "stdout",
     "output_type": "stream",
     "text": [
      "8744\n"
     ]
    },
    {
     "data": {
      "text/plain": [
       "[False,\n",
       " 'E:/anomoly_detection_IOT_sensor/iotAnomaly_test\\\\csv_files/label_97513297798219.csv']"
      ]
     },
     "execution_count": 2,
     "metadata": {},
     "output_type": "execute_result"
    }
   ],
   "source": [
    "# 저장 잘 됐는지 확인\n",
    "with open(\"pickle/dbscan_fail_list_by_testcase.pickle\", \"rb\") as handle:\n",
    "    dbscan = pickle.load(handle)\n",
    "\n",
    "print( len(dbscan) )\n",
    "type(dbscan)\n",
    "dbscan[0]"
   ]
  },
  {
   "cell_type": "code",
   "execution_count": 3,
   "id": "4a1d053e",
   "metadata": {},
   "outputs": [
    {
     "name": "stdout",
     "output_type": "stream",
     "text": [
      "8744\n"
     ]
    },
    {
     "data": {
      "text/plain": [
       "0    [0.9855084153495351, 0.014491584650464785]\n",
       "1    [0.9862711475299323, 0.013728852470067682]\n",
       "2    [0.9891769547668304, 0.010823045233169563]\n",
       "3    [0.9853774623896892, 0.014622537610310755]\n",
       "4        [0.927631826323797, 0.072368173676203]\n",
       "Name: probability, dtype: object"
      ]
     },
     "execution_count": 3,
     "metadata": {},
     "output_type": "execute_result"
    }
   ],
   "source": [
    "# 저장 잘 됐는지 확인\n",
    "with open(\"pickle/probability_kmeans_plus_testcase.pickle\", \"rb\") as handle:\n",
    "    kmeans = pickle.load(handle)\n",
    "\n",
    "print( len(kmeans) )\n",
    "type(kmeans)\n",
    "kmeans.head()"
   ]
  },
  {
   "cell_type": "code",
   "execution_count": 4,
   "id": "cf67c2f4",
   "metadata": {},
   "outputs": [
    {
     "name": "stdout",
     "output_type": "stream",
     "text": [
      "(8744, 1)\n"
     ]
    }
   ],
   "source": [
    "# 저장 잘 됐는지 확인\n",
    "with open(\"pickle/CRNN_ypred.pickle\", \"rb\") as handle:\n",
    "    crnn = pickle.load(handle)\n",
    "\n",
    "print( crnn.shape )\n",
    "type(crnn) # numpy\n",
    "crnn = crnn.tolist()"
   ]
  },
  {
   "cell_type": "code",
   "execution_count": 5,
   "id": "66ec96b4",
   "metadata": {},
   "outputs": [
    {
     "data": {
      "text/plain": [
       "153"
      ]
     },
     "execution_count": 5,
     "metadata": {},
     "output_type": "execute_result"
    }
   ],
   "source": [
    "fail_index = {}\n",
    "for i, v in enumerate(dbscan) :\n",
    "    if v[0] == True :  # 고장이라면\n",
    "        fail_index[i] = [True]\n",
    "len(fail_index)"
   ]
  },
  {
   "cell_type": "code",
   "execution_count": 6,
   "id": "b6b76e8b",
   "metadata": {},
   "outputs": [
    {
     "data": {
      "text/plain": [
       "(153, 41)"
      ]
     },
     "execution_count": 6,
     "metadata": {},
     "output_type": "execute_result"
    }
   ],
   "source": [
    "j = 0\n",
    "for i, v in enumerate(kmeans) :\n",
    "    if v[0] < 0.9 :  # 고장이라면\n",
    "        b = True\n",
    "        j += 1\n",
    "    else :\n",
    "        b = False\n",
    "        \n",
    "    if i in fail_index :\n",
    "        fail_index[i].append(b)\n",
    "    elif b == True:\n",
    "        fail_index[i] = [False, True]\n",
    "len(fail_index), j"
   ]
  },
  {
   "cell_type": "code",
   "execution_count": 7,
   "id": "ac0d61a4",
   "metadata": {},
   "outputs": [
    {
     "data": {
      "text/plain": [
       "(153, 0)"
      ]
     },
     "execution_count": 7,
     "metadata": {},
     "output_type": "execute_result"
    }
   ],
   "source": [
    "j = 0\n",
    "for i, v in enumerate(crnn) :\n",
    "    v[0] = round(v[0], 5)\n",
    "    \n",
    "    if v[0] > 0.5 :  # 고장이라면\n",
    "        b = True\n",
    "        j += 1\n",
    "    else :\n",
    "        b = False\n",
    "        \n",
    "    if i in fail_index :\n",
    "        fail_index[i].append(b)\n",
    "    elif b == True:\n",
    "        fail_index[i] = [False, True]\n",
    "len(fail_index), j"
   ]
  },
  {
   "cell_type": "code",
   "execution_count": 8,
   "id": "d6ac7fb9",
   "metadata": {},
   "outputs": [
    {
     "data": {
      "text/plain": [
       "[0.0]"
      ]
     },
     "execution_count": 8,
     "metadata": {},
     "output_type": "execute_result"
    }
   ],
   "source": [
    "max(crnn)"
   ]
  },
  {
   "cell_type": "code",
   "execution_count": 9,
   "id": "ad439003",
   "metadata": {},
   "outputs": [],
   "source": [
    "# plot 저장\n",
    "def draw_plot_save(df, path) :\n",
    "    fig = plt.figure(figsize=(32, 32))\n",
    "    ax = fig.add_subplot(111, projection = '3d')\n",
    "    ax.scatter3D(df['x'], df['y'], df['z'],edgecolor='black', marker='o')\n",
    "    plt.legend()\n",
    "    plt.tight_layout()\n",
    "    plt.savefig(path[:-4]+'_fail.png',transparent=True, bbox_inches='tight', pad_inches = 0.1)"
   ]
  },
  {
   "cell_type": "code",
   "execution_count": 11,
   "id": "394368a5",
   "metadata": {
    "scrolled": false
   },
   "outputs": [],
   "source": [
    "for idx in fail_index :\n",
    "    f_path = dbscan[idx][1]\n",
    "    df = pd.read_csv(f_path)\n",
    "    draw_plot_save(df, f_path)\n"
   ]
  },
  {
   "cell_type": "code",
   "execution_count": null,
   "id": "a9e1fffc",
   "metadata": {},
   "outputs": [],
   "source": []
  },
  {
   "cell_type": "code",
   "execution_count": 12,
   "id": "fd5a3edc",
   "metadata": {},
   "outputs": [],
   "source": [
    "# free memory\n",
    "del dbscan\n",
    "del kmeans\n",
    "del crnn"
   ]
  },
  {
   "cell_type": "code",
   "execution_count": null,
   "id": "77c0ac0b",
   "metadata": {},
   "outputs": [],
   "source": []
  }
 ],
 "metadata": {
  "kernelspec": {
   "display_name": "conda_jupyter",
   "language": "python",
   "name": "jupyter"
  },
  "language_info": {
   "codemirror_mode": {
    "name": "ipython",
    "version": 3
   },
   "file_extension": ".py",
   "mimetype": "text/x-python",
   "name": "python",
   "nbconvert_exporter": "python",
   "pygments_lexer": "ipython3",
   "version": "3.8.12"
  }
 },
 "nbformat": 4,
 "nbformat_minor": 5
}
