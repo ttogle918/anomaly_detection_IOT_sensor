{
 "cells": [
  {
   "cell_type": "markdown",
   "id": "f2990cf1",
   "metadata": {},
   "source": [
    "## dataset 분석\n",
    "input : 모터에 부착된 전류 센서에서 4kHz로 측정된  전류 정보 (R, S, T상 전류) 값, Train Set에는 정상/고장에 대한 레이블(label) 정보 없음\n",
    "- wavelength : 시간\n",
    "- x : R성 전류\n",
    "- y : S성 전류\n",
    "- z : T성 전류\n",
    "\n",
    "output : 정상 / 고장 \n",
    "\n",
    "label 정보가 없기 때문에 비지도학습으로 output을 도출해야한다."
   ]
  },
  {
   "cell_type": "code",
   "execution_count": 7,
   "id": "ea4a645b",
   "metadata": {},
   "outputs": [],
   "source": [
    "import pandas as pd\n",
    "import numpy as np\n",
    "import os\n",
    "import math\n",
    "import pickle\n",
    "from mpl_toolkits.mplot3d import axes3d\n",
    "\n",
    "import matplotlib.pyplot as plt"
   ]
  },
  {
   "cell_type": "code",
   "execution_count": 3,
   "id": "980daf70",
   "metadata": {},
   "outputs": [
    {
     "name": "stdout",
     "output_type": "stream",
     "text": [
      "E:/anomoly_detection_IOT_sensor/iotAnomaly_train\n",
      "E:/anomoly_detection_IOT_sensor/iotAnomaly_train\\csv_files\n"
     ]
    },
    {
     "data": {
      "text/html": [
       "<div>\n",
       "<style scoped>\n",
       "    .dataframe tbody tr th:only-of-type {\n",
       "        vertical-align: middle;\n",
       "    }\n",
       "\n",
       "    .dataframe tbody tr th {\n",
       "        vertical-align: top;\n",
       "    }\n",
       "\n",
       "    .dataframe thead th {\n",
       "        text-align: right;\n",
       "    }\n",
       "</style>\n",
       "<table border=\"1\" class=\"dataframe\">\n",
       "  <thead>\n",
       "    <tr style=\"text-align: right;\">\n",
       "      <th></th>\n",
       "      <th>wavelength</th>\n",
       "      <th>x</th>\n",
       "      <th>y</th>\n",
       "      <th>z</th>\n",
       "      <th>중성선</th>\n",
       "      <th>불평형률</th>\n",
       "    </tr>\n",
       "  </thead>\n",
       "  <tbody>\n",
       "    <tr>\n",
       "      <th>0</th>\n",
       "      <td>0.0000</td>\n",
       "      <td>2.692627</td>\n",
       "      <td>0.450439</td>\n",
       "      <td>-3.553467</td>\n",
       "      <td>5.480527</td>\n",
       "      <td>-4565</td>\n",
       "    </tr>\n",
       "    <tr>\n",
       "      <th>1</th>\n",
       "      <td>0.0005</td>\n",
       "      <td>2.132080</td>\n",
       "      <td>1.291260</td>\n",
       "      <td>-3.833740</td>\n",
       "      <td>5.593014</td>\n",
       "      <td>-4360</td>\n",
       "    </tr>\n",
       "    <tr>\n",
       "      <th>2</th>\n",
       "      <td>0.0010</td>\n",
       "      <td>1.731689</td>\n",
       "      <td>1.931885</td>\n",
       "      <td>-4.114014</td>\n",
       "      <td>5.948328</td>\n",
       "      <td>-4026</td>\n",
       "    </tr>\n",
       "    <tr>\n",
       "      <th>3</th>\n",
       "      <td>0.0015</td>\n",
       "      <td>0.930908</td>\n",
       "      <td>2.332275</td>\n",
       "      <td>-3.673584</td>\n",
       "      <td>5.442220</td>\n",
       "      <td>-4390</td>\n",
       "    </tr>\n",
       "    <tr>\n",
       "      <th>4</th>\n",
       "      <td>0.0020</td>\n",
       "      <td>0.330322</td>\n",
       "      <td>2.932861</td>\n",
       "      <td>-3.633545</td>\n",
       "      <td>5.727266</td>\n",
       "      <td>-5318</td>\n",
       "    </tr>\n",
       "    <tr>\n",
       "      <th>...</th>\n",
       "      <td>...</td>\n",
       "      <td>...</td>\n",
       "      <td>...</td>\n",
       "      <td>...</td>\n",
       "      <td>...</td>\n",
       "      <td>...</td>\n",
       "    </tr>\n",
       "    <tr>\n",
       "      <th>1995</th>\n",
       "      <td>0.9975</td>\n",
       "      <td>4.334229</td>\n",
       "      <td>-2.712646</td>\n",
       "      <td>-2.112061</td>\n",
       "      <td>6.766602</td>\n",
       "      <td>-4310</td>\n",
       "    </tr>\n",
       "    <tr>\n",
       "      <th>1996</th>\n",
       "      <td>0.9980</td>\n",
       "      <td>4.534424</td>\n",
       "      <td>-1.871826</td>\n",
       "      <td>-3.193115</td>\n",
       "      <td>7.158935</td>\n",
       "      <td>-4369</td>\n",
       "    </tr>\n",
       "    <tr>\n",
       "      <th>1997</th>\n",
       "      <td>0.9985</td>\n",
       "      <td>4.053955</td>\n",
       "      <td>-0.990967</td>\n",
       "      <td>-3.593506</td>\n",
       "      <td>6.734542</td>\n",
       "      <td>-4324</td>\n",
       "    </tr>\n",
       "    <tr>\n",
       "      <th>1998</th>\n",
       "      <td>0.9990</td>\n",
       "      <td>3.613525</td>\n",
       "      <td>0.010010</td>\n",
       "      <td>-4.073975</td>\n",
       "      <td>6.661903</td>\n",
       "      <td>-5120</td>\n",
       "    </tr>\n",
       "    <tr>\n",
       "      <th>1999</th>\n",
       "      <td>0.9995</td>\n",
       "      <td>2.972900</td>\n",
       "      <td>0.890869</td>\n",
       "      <td>-4.354248</td>\n",
       "      <td>6.539618</td>\n",
       "      <td>-4481</td>\n",
       "    </tr>\n",
       "  </tbody>\n",
       "</table>\n",
       "<p>2000 rows × 6 columns</p>\n",
       "</div>"
      ],
      "text/plain": [
       "      wavelength         x         y         z       중성선  불평형률\n",
       "0         0.0000  2.692627  0.450439 -3.553467  5.480527 -4565\n",
       "1         0.0005  2.132080  1.291260 -3.833740  5.593014 -4360\n",
       "2         0.0010  1.731689  1.931885 -4.114014  5.948328 -4026\n",
       "3         0.0015  0.930908  2.332275 -3.673584  5.442220 -4390\n",
       "4         0.0020  0.330322  2.932861 -3.633545  5.727266 -5318\n",
       "...          ...       ...       ...       ...       ...   ...\n",
       "1995      0.9975  4.334229 -2.712646 -2.112061  6.766602 -4310\n",
       "1996      0.9980  4.534424 -1.871826 -3.193115  7.158935 -4369\n",
       "1997      0.9985  4.053955 -0.990967 -3.593506  6.734542 -4324\n",
       "1998      0.9990  3.613525  0.010010 -4.073975  6.661903 -5120\n",
       "1999      0.9995  2.972900  0.890869 -4.354248  6.539618 -4481\n",
       "\n",
       "[2000 rows x 6 columns]"
      ]
     },
     "execution_count": 3,
     "metadata": {},
     "output_type": "execute_result"
    }
   ],
   "source": [
    "def middle_line(temp_df) :\n",
    "    x = temp_df.x\n",
    "    y = temp_df.y\n",
    "    z = temp_df.z\n",
    "    return math.sqrt((x + y*(-0.5) + z*(-0.5))**2 + (y*(0.5*math.sqrt(3)) + z*(-0.5*math.sqrt(3)))**2)\n",
    "def caculate_unbalance(temp_df) :\n",
    "    x = temp_df.x\n",
    "    y = temp_df.y\n",
    "    z = temp_df.z\n",
    "    return int((max(x, y, z) - min(x, y, z))/sum([x, y, z])*3 * 100)\n",
    "train_path = 'E:/anomoly_detection_IOT_sensor/iotAnomaly_train'\n",
    "\n",
    "dic = {'중성선' : [], 'path' : [], '전류 불평형율' : [] }\n",
    "for (path, dir, files) in os.walk(train_path):\n",
    "    print(path)\n",
    "    for filename in files:\n",
    "        ext = os.path.splitext(filename)[-1]\n",
    "        if ext == '.csv':\n",
    "            df = pd.read_csv(\"%s/%s\" % (path, filename))\n",
    "            df['중성선'] = df[['x', 'y', 'z']].apply(middle_line, axis=1)\n",
    "            df['불평형률'] = df[['x', 'y', 'z']].apply(caculate_unbalance, axis=1)\n",
    "            dic['path'].append(\"%s/%s\" % (path, filename))\n",
    "            \n",
    "            \n",
    "            break\n",
    "df"
   ]
  },
  {
   "cell_type": "markdown",
   "id": "c9ffacd5",
   "metadata": {},
   "source": [
    "중성선이 0에 가까울수록 정상일 확률이 높고, 불평형률이 30% 이상이라면 고장날 확률이 높다.\n",
    "\n",
    "이 기준으로 고장났거나 고장날 확률이 높은지 분류하기 위해 각 전류에 위상차를 표현하기 위해 위와 같은 계산을 하였다.\n",
    "\n",
    "그런데 대부분의 데이터에서 0과 가깝게 나오지 않았다.\n",
    "\n",
    "하지만 단순히 **x+y+z**를 하면 0과 근사한 값이 나온다.\n",
    "\n",
    "(사실, A로 나타나려면 음수가 나올 수가 없다...)\n",
    "\n",
    "따라서 이 데이터가 이미 위상차 계산이 되어있다고 가정하고 프로젝트를 진행하였다.\n",
    "\n",
    "참고 : \n",
    "- [1] [중성선의 원리 및 특징, 평형과 불평형 전류 이해하기](https://blog.naver.com/somang8991/221916506560)\n",
    "- [2] [3상 4선식에서 중성선에 흐르는 전류를 그림으로 그렸습니다.](https://m.blog.naver.com/kimih2917/40122115829)\n",
    "- [3] [3상 R,S,T 불평형](https://m.blog.naver.com/sangdoo7572/221508664048)"
   ]
  },
  {
   "cell_type": "markdown",
   "id": "9203e4e4",
   "metadata": {},
   "source": [
    "------------------"
   ]
  },
  {
   "cell_type": "markdown",
   "id": "76b88b3f",
   "metadata": {},
   "source": [
    "### 지도학습\n",
    "지도학습이라면\n",
    "1. Support vector machine\n",
    "2. Bayesian network\n",
    "3. K-nearest neighbors\n",
    "가 이상 탐지 기법에 적용 가능하다.\n",
    "\n",
    "지도학습의 전제 조건 : 균형 데이터일 때, 경계가 분명할 때 사용해야한다. \n",
    "+ 불균형 데이터일때 : 특정 label만 도출할 수 있다.\n",
    "+ 경계가 불분명할 때 : 분류했을 때 경계가 불분명한 데이터는 잘못된 label을 낼 가능성이 있다.\n",
    "\n",
    "### 비지도학습 \n",
    "\n",
    "지도학습 알고리즘을 적용하기 어려울 때 사용하며, **unlabeled data**에서 데이터의 구조(structure)와 패턴(pattern)을 알아내는 문제의 범주에 속한다.\n",
    "\n",
    "정상, 이상에 대한 라벨링이 힘들 것으로 예상될때도 적용할 수 있고, 특히 데이터에 **이상치가 매우 적게 나타날때** 유용한 기법이다.\n",
    "\n",
    "- Clustering\n",
    "- Principal Component Analysis (PCA)\n",
    "- Autoencoder\n",
    "\n",
    "### 시계열\n",
    "\n",
    "해당 데이터는 시간에 따라 데이터의 변화를 나타낸다.\n",
    "\n",
    "따라서 RNN, LSTM 등의 시퀀스(순서) 데이터 처리가 가능한 알고리즘을 결합하여 사용하면 높은 정확도를 구할 수 있을것이다.\n",
    "\n",
    "\n",
    "평가지표\n",
    "\n",
    "AUROC(Area Under an ROC Curve)\n",
    "\n",
    "     - 평가를 위한 Test Set에는 정상/고장 여부 label 존재\n",
    "     - ROC (Receiver Operating Characteristic) 곡선 아래 영역의 넓이로 모델의 정확도 측정"
   ]
  },
  {
   "cell_type": "markdown",
   "id": "2bd49910",
   "metadata": {},
   "source": [
    "## dataset 저장"
   ]
  },
  {
   "cell_type": "markdown",
   "id": "7717fe10",
   "metadata": {},
   "source": [
    "### train data"
   ]
  },
  {
   "cell_type": "code",
   "execution_count": 5,
   "id": "f0d8fb73",
   "metadata": {},
   "outputs": [
    {
     "name": "stdout",
     "output_type": "stream",
     "text": [
      "E:/anomoly_detection_IOT_sensor/iotAnomaly_train\n",
      "E:/anomoly_detection_IOT_sensor/iotAnomaly_train\\csv_files\n"
     ]
    },
    {
     "data": {
      "text/plain": [
       "58631"
      ]
     },
     "execution_count": 5,
     "metadata": {},
     "output_type": "execute_result"
    }
   ],
   "source": [
    "train_path = 'E:/anomoly_detection_IOT_sensor/iotAnomaly_train'\n",
    "dic_minmax = {'x_max' : [], 'y_max' : [], 'z_max' : [],\n",
    "              'x_min' : [], 'y_min' : [], 'z_min' : [],\n",
    "              'sum_max' : [], 'sum_min' : [], 'path' : [] }\n",
    "for (path, dir, files) in os.walk(train_path):\n",
    "    print(path)\n",
    "    for filename in files:\n",
    "        ext = os.path.splitext(filename)[-1]\n",
    "        if ext == '.csv':\n",
    "            df = pd.read_csv(\"%s/%s\" % (path, filename))\n",
    "            df['sum'] = df['x'] + df['y'] + df['z']\n",
    "            dic_minmax['x_max'].append(df.x.max())\n",
    "            dic_minmax['y_max'].append(df.y.max())\n",
    "            dic_minmax['z_max'].append(df.z.max())\n",
    "            dic_minmax['x_min'].append(df.x.min())\n",
    "            dic_minmax['y_min'].append(df.y.min())\n",
    "            dic_minmax['z_min'].append(df.z.min())\n",
    "            dic_minmax['sum_max'].append(df['sum'].max())\n",
    "            dic_minmax['sum_min'].append(df['sum'].min())\n",
    "            dic_minmax['path'].append(\"%s/%s\" % (path, filename))\n",
    "            \n",
    "# 저장된 데이터 개수 확인\n",
    "print( dic_minmax.keys() )\n",
    "print( len(dic_minmax['path']) )"
   ]
  },
  {
   "cell_type": "markdown",
   "id": "f74c14ad",
   "metadata": {},
   "source": [
    "### test data"
   ]
  },
  {
   "cell_type": "code",
   "execution_count": null,
   "id": "0e960286",
   "metadata": {},
   "outputs": [],
   "source": [
    "test_path = 'E:/anomoly_detection_IOT_sensor/iotAnomaly_test'\n",
    "dic_minmax = {'x_max' : [], 'y_max' : [], 'z_max' : [],\n",
    "              'x_min' : [], 'y_min' : [], 'z_min' : [],\n",
    "              'sum_max' : [], 'sum_min' : [], 'path' : [] }\n",
    "for (path, dir, files) in os.walk(test_path):\n",
    "    print(path)\n",
    "    for filename in files:\n",
    "        ext = os.path.splitext(filename)[-1]\n",
    "        if ext == '.csv':\n",
    "            try :\n",
    "                df = pd.read_csv(\"%s/%s\" % (path, filename))\n",
    "                df['sum'] = df['x'] + df['y'] + df['z']\n",
    "                dic_minmax['x_max'].append(df.x.max())\n",
    "                dic_minmax['y_max'].append(df.y.max())\n",
    "                dic_minmax['z_max'].append(df.z.max())\n",
    "                dic_minmax['x_min'].append(df.x.min())\n",
    "                dic_minmax['y_min'].append(df.y.min())\n",
    "                dic_minmax['z_min'].append(df.z.min())\n",
    "                dic_minmax['sum_max'].append(df['sum'].max())\n",
    "                dic_minmax['sum_min'].append(df['sum'].min())\n",
    "                dic_minmax['path'].append(\"%s/%s\" % (path, filename))\n",
    "            except KeyError as e :\n",
    "                print(\"%s/%s\" % (path, filename))\n",
    "                break\n",
    "                \n",
    "# 저장된 데이터 개수 확인\n",
    "print( dic_minmax.keys() )\n",
    "print( len(dic_minmax['path']) )"
   ]
  },
  {
   "cell_type": "markdown",
   "id": "5730bfa3",
   "metadata": {},
   "source": [
    "## pickling ( 저장 )\n",
    "\n",
    "각 파일(csv)의 열마다 max, min값을 저장한 dictionary를 다른 파일에서도 사용할 수 있도록 local에 저장하자"
   ]
  },
  {
   "cell_type": "code",
   "execution_count": 8,
   "id": "39dd4f6d",
   "metadata": {},
   "outputs": [],
   "source": [
    "# train_data 저장\n",
    "with open(\"dic_minmax.pickle\", \"wb\") as handle:\n",
    "    pickle.dump(dic_minmax, handle, protocol=pickle.HIGHEST_PROTOCOL)"
   ]
  },
  {
   "cell_type": "code",
   "execution_count": 9,
   "id": "1768b3d3",
   "metadata": {},
   "outputs": [
    {
     "name": "stdout",
     "output_type": "stream",
     "text": [
      "dict_keys(['x_max', 'y_max', 'z_max', 'x_min', 'y_min', 'z_min', 'sum_max', 'sum_min', 'path'])\n",
      "58631\n"
     ]
    }
   ],
   "source": [
    "# 저장 잘 됐는지 확인\n",
    "with open(\"dic_minmax.pickle\", \"rb\") as handle:\n",
    "    f = pickle.load(handle)\n",
    "\n",
    "print( f.keys() )\n",
    "print( len(f['path']) )"
   ]
  },
  {
   "cell_type": "code",
   "execution_count": null,
   "id": "91d4f874",
   "metadata": {},
   "outputs": [],
   "source": [
    "# test data 저장\n",
    "with open(\"dic_minmax_test.pickle\", \"wb\") as handle:\n",
    "    pickle.dump(dic_minmax, handle, protocol=pickle.HIGHEST_PROTOCOL)"
   ]
  },
  {
   "cell_type": "code",
   "execution_count": null,
   "id": "604f68ac",
   "metadata": {},
   "outputs": [],
   "source": [
    "# 저장 잘 됐는지 확인\n",
    "with open(\"dic_minmax_test.pickle\", \"rb\") as handle:\n",
    "    f = pickle.load(handle)\n",
    "\n",
    "print( f.keys() )\n",
    "print( len(f['path']) )"
   ]
  },
  {
   "cell_type": "markdown",
   "id": "84a28f21",
   "metadata": {},
   "source": [
    "## image로 변환 및 svg파일로 저장\n",
    "각 데이터가 시간에 따라 어떻게 변하는지 알아보고 저장하자.\n",
    "\n",
    "메모리의 한계로 인해 train data 58631개 데이터 중 20000개의 데이터를 적용한다."
   ]
  },
  {
   "cell_type": "code",
   "execution_count": 7,
   "id": "b6efeab3",
   "metadata": {},
   "outputs": [],
   "source": [
    "# 시간에 따라 x, y, z, 각 행의 합의 변화를 그리고 그 이미지를 저장하는 메소드\n",
    "def make_plot(df) :\n",
    "    fig = plt.figure(figsize=(32,1), dpi=64, tight_layout=True, frameon=False)\n",
    "     # 공백 없애기\n",
    "    plt.margins(0, 0, tight=True)\n",
    "    plt.axis('off')\n",
    "    plt.xticks([])\n",
    "    plt.subplots_adjust(left = 0, bottom = 0, right = 1, top = 1, hspace = 0, wspace = 0)\n",
    "    \n",
    "    plt.scatter(x=df.wavelength, y=df['x'], s=4, alpha=0.7, color='midnightblue')\n",
    "    plt.scatter(x=df.wavelength, y=df['y'], s=4, alpha=0.7, color='chartreuse')\n",
    "    plt.scatter(x=df.wavelength, y=df['z'], s=4, alpha=0.7, color='mediumvioletred')\n",
    "    plt.scatter(x=df.wavelength, y=df['sum'], s=1, alpha=0.7, color='crimson')\n",
    "    fig.canvas.draw()\n",
    "    plt.imshow(np.array(fig.canvas.renderer._renderer)[:,:])\n",
    "    plt.savefig(path + filename[:-4] + '.svg',dpi=64,transparent=True,bbox_inches='tight')"
   ]
  },
  {
   "cell_type": "code",
   "execution_count": 2,
   "id": "3b9fe7ed",
   "metadata": {},
   "outputs": [
    {
     "name": "stdout",
     "output_type": "stream",
     "text": [
      "E:/anomoly_detection_IOT_sensor/iotAnomaly_train\n",
      "E:/anomoly_detection_IOT_sensor/iotAnomaly_train\\csv_files\n"
     ]
    }
   ],
   "source": [
    "train_path = 'E:/anomoly_detection_IOT_sensor/iotAnomaly_train'\n",
    "i = 0\n",
    "dic_minmax = {'x_max' : [], 'y_max' : [], 'z_max' : [],\n",
    "              'x_min' : [], 'y_min' : [], 'z_min' : [],\n",
    "              'sum_max' : [], 'sum_min' : [], 'path' : [] }\n",
    "for (path, dir, files) in os.walk(train_path):\n",
    "    print(path)\n",
    "    for filename in files:\n",
    "        ext = os.path.splitext(filename)[-1]\n",
    "        if ext == '.csv':\n",
    "            df = pd.read_csv(\"%s/%s\" % (path, filename))\n",
    "            df['sum'] = df['x'] + df['y'] + df['z']\n",
    "            \n",
    "            make_plot(df)\n",
    "            \n",
    "            i+=1\n",
    "            if i == 20000:\n",
    "                break"
   ]
  },
  {
   "cell_type": "markdown",
   "id": "88ebce84",
   "metadata": {},
   "source": [
    "### test 파일에도 적용\n",
    "\n",
    "8744개이기에 모두 저장"
   ]
  },
  {
   "cell_type": "code",
   "execution_count": 1,
   "id": "6aba22ca",
   "metadata": {},
   "outputs": [],
   "source": [
    "test_path = 'E:/anomoly_detection_IOT_sensor/iotAnomaly_test'\n",
    "dic_minmax = {'x_max' : [], 'y_max' : [], 'z_max' : [],\n",
    "              'x_min' : [], 'y_min' : [], 'z_min' : [],\n",
    "              'sum_max' : [], 'sum_min' : [], 'path' : [] }\n",
    "for (path, dir, files) in os.walk(test_path):\n",
    "    print(path)\n",
    "    for filename in files:\n",
    "        ext = os.path.splitext(filename)[-1]\n",
    "        if ext == '.csv':\n",
    "            try :\n",
    "                df = pd.read_csv(\"%s/%s\" % (path, filename))\n",
    "                df['sum'] = df['x'] + df['y'] + df['z']\n",
    "                make_plot(df)\n",
    "            except KeyError as e :\n",
    "                print(\"%s/%s\" % (path, filename))\n",
    "                break\n"
   ]
  },
  {
   "cell_type": "code",
   "execution_count": null,
   "id": "4be63f33",
   "metadata": {},
   "outputs": [],
   "source": []
  }
 ],
 "metadata": {
  "kernelspec": {
   "display_name": "conda_jupyter",
   "language": "python",
   "name": "jupyter"
  },
  "language_info": {
   "codemirror_mode": {
    "name": "ipython",
    "version": 3
   },
   "file_extension": ".py",
   "mimetype": "text/x-python",
   "name": "python",
   "nbconvert_exporter": "python",
   "pygments_lexer": "ipython3",
   "version": "3.8.12"
  }
 },
 "nbformat": 4,
 "nbformat_minor": 5
}
